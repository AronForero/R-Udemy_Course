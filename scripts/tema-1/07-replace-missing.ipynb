{
 "cells": [
  {
   "cell_type": "markdown",
   "metadata": {},
   "source": [
    "# Reemplazar valores NA por otros..."
   ]
  },
  {
   "cell_type": "code",
   "execution_count": 18,
   "metadata": {
    "collapsed": true
   },
   "outputs": [],
   "source": [
    "data = read.csv(\"../data/tema1/missing-data.csv\", na.strings=\"\")"
   ]
  },
  {
   "cell_type": "markdown",
   "metadata": {},
   "source": [
    "### Como reemplazar valores NA por el Promedio:"
   ]
  },
  {
   "cell_type": "code",
   "execution_count": 12,
   "metadata": {},
   "outputs": [],
   "source": [
    "data$Income.mean = ifelse(is.na(data$Income), mean(data$Income, na.rm = TRUE),\n",
    "                         data$Income\n",
    "                         )"
   ]
  },
  {
   "cell_type": "code",
   "execution_count": 13,
   "metadata": {},
   "outputs": [
    {
     "data": {
      "text/html": [
       "<table>\n",
       "<thead><tr><th scope=col>Income</th><th scope=col>Phone_type</th><th scope=col>Car_type</th><th scope=col>Income.mean</th></tr></thead>\n",
       "<tbody>\n",
       "\t<tr><td> 89800    </td><td>Android   </td><td>Luxury    </td><td> 89800    </td></tr>\n",
       "\t<tr><td> 47500    </td><td>Android   </td><td>Non-Luxury</td><td> 47500    </td></tr>\n",
       "\t<tr><td> 45000    </td><td>iPhone    </td><td>Luxury    </td><td> 45000    </td></tr>\n",
       "\t<tr><td> 44700    </td><td>NA        </td><td>Luxury    </td><td> 44700    </td></tr>\n",
       "\t<tr><td> 59500    </td><td>iPhone    </td><td>Luxury    </td><td> 59500    </td></tr>\n",
       "\t<tr><td>    NA    </td><td>Android   </td><td>Non-Luxury</td><td> 57872    </td></tr>\n",
       "\t<tr><td> 63300    </td><td>iPhone    </td><td>Non-Luxury</td><td> 63300    </td></tr>\n",
       "\t<tr><td> 52900    </td><td>Android   </td><td>Luxury    </td><td> 52900    </td></tr>\n",
       "\t<tr><td> 78200    </td><td>Android   </td><td>Luxury    </td><td> 78200    </td></tr>\n",
       "\t<tr><td>145100    </td><td>iPhone    </td><td>Luxury    </td><td>145100    </td></tr>\n",
       "\t<tr><td> 88600    </td><td>iPhone    </td><td>Non-Luxury</td><td> 88600    </td></tr>\n",
       "\t<tr><td> 65600    </td><td>iPhone    </td><td>Luxury    </td><td> 65600    </td></tr>\n",
       "\t<tr><td>    NA    </td><td>Android   </td><td>Non-Luxury</td><td> 57872    </td></tr>\n",
       "\t<tr><td> 94600    </td><td>Android   </td><td>Luxury    </td><td> 94600    </td></tr>\n",
       "\t<tr><td> 59400    </td><td>iPhone    </td><td>Luxury    </td><td> 59400    </td></tr>\n",
       "\t<tr><td> 47300    </td><td>iPhone    </td><td>Non-Luxury</td><td> 47300    </td></tr>\n",
       "\t<tr><td> 72100    </td><td>NA        </td><td>Luxury    </td><td> 72100    </td></tr>\n",
       "\t<tr><td>     0    </td><td>iPhone    </td><td>Non-Luxury</td><td>     0    </td></tr>\n",
       "\t<tr><td>     0    </td><td>Android   </td><td>Luxury    </td><td>     0    </td></tr>\n",
       "\t<tr><td> 83000    </td><td>iPhone    </td><td>Luxury    </td><td> 83000    </td></tr>\n",
       "\t<tr><td> 64100    </td><td>Android   </td><td>Non-Luxury</td><td> 64100    </td></tr>\n",
       "\t<tr><td> 42100    </td><td>iPhone    </td><td>Non-Luxury</td><td> 42100    </td></tr>\n",
       "\t<tr><td>     0    </td><td>iPhone    </td><td>Luxury    </td><td>     0    </td></tr>\n",
       "\t<tr><td> 91500    </td><td>iPhone    </td><td>Non-Luxury</td><td> 91500    </td></tr>\n",
       "\t<tr><td> 51200    </td><td>Android   </td><td>Luxury    </td><td> 51200    </td></tr>\n",
       "\t<tr><td> 13800    </td><td>iPhone    </td><td>Non-Luxury</td><td> 13800    </td></tr>\n",
       "\t<tr><td> 47500    </td><td>iPhone    </td><td>Non-Luxury</td><td> 47500    </td></tr>\n",
       "</tbody>\n",
       "</table>\n"
      ],
      "text/latex": [
       "\\begin{tabular}{r|llll}\n",
       " Income & Phone\\_type & Car\\_type & Income.mean\\\\\n",
       "\\hline\n",
       "\t  89800     & Android    & Luxury     &  89800    \\\\\n",
       "\t  47500     & Android    & Non-Luxury &  47500    \\\\\n",
       "\t  45000     & iPhone     & Luxury     &  45000    \\\\\n",
       "\t  44700     & NA         & Luxury     &  44700    \\\\\n",
       "\t  59500     & iPhone     & Luxury     &  59500    \\\\\n",
       "\t     NA     & Android    & Non-Luxury &  57872    \\\\\n",
       "\t  63300     & iPhone     & Non-Luxury &  63300    \\\\\n",
       "\t  52900     & Android    & Luxury     &  52900    \\\\\n",
       "\t  78200     & Android    & Luxury     &  78200    \\\\\n",
       "\t 145100     & iPhone     & Luxury     & 145100    \\\\\n",
       "\t  88600     & iPhone     & Non-Luxury &  88600    \\\\\n",
       "\t  65600     & iPhone     & Luxury     &  65600    \\\\\n",
       "\t     NA     & Android    & Non-Luxury &  57872    \\\\\n",
       "\t  94600     & Android    & Luxury     &  94600    \\\\\n",
       "\t  59400     & iPhone     & Luxury     &  59400    \\\\\n",
       "\t  47300     & iPhone     & Non-Luxury &  47300    \\\\\n",
       "\t  72100     & NA         & Luxury     &  72100    \\\\\n",
       "\t      0     & iPhone     & Non-Luxury &      0    \\\\\n",
       "\t      0     & Android    & Luxury     &      0    \\\\\n",
       "\t  83000     & iPhone     & Luxury     &  83000    \\\\\n",
       "\t  64100     & Android    & Non-Luxury &  64100    \\\\\n",
       "\t  42100     & iPhone     & Non-Luxury &  42100    \\\\\n",
       "\t      0     & iPhone     & Luxury     &      0    \\\\\n",
       "\t  91500     & iPhone     & Non-Luxury &  91500    \\\\\n",
       "\t  51200     & Android    & Luxury     &  51200    \\\\\n",
       "\t  13800     & iPhone     & Non-Luxury &  13800    \\\\\n",
       "\t  47500     & iPhone     & Non-Luxury &  47500    \\\\\n",
       "\\end{tabular}\n"
      ],
      "text/markdown": [
       "\n",
       "Income | Phone_type | Car_type | Income.mean | \n",
       "|---|---|---|---|---|---|---|---|---|---|---|---|---|---|---|---|---|---|---|---|---|---|---|---|---|---|---|\n",
       "|  89800     | Android    | Luxury     |  89800     | \n",
       "|  47500     | Android    | Non-Luxury |  47500     | \n",
       "|  45000     | iPhone     | Luxury     |  45000     | \n",
       "|  44700     | NA         | Luxury     |  44700     | \n",
       "|  59500     | iPhone     | Luxury     |  59500     | \n",
       "|     NA     | Android    | Non-Luxury |  57872     | \n",
       "|  63300     | iPhone     | Non-Luxury |  63300     | \n",
       "|  52900     | Android    | Luxury     |  52900     | \n",
       "|  78200     | Android    | Luxury     |  78200     | \n",
       "| 145100     | iPhone     | Luxury     | 145100     | \n",
       "|  88600     | iPhone     | Non-Luxury |  88600     | \n",
       "|  65600     | iPhone     | Luxury     |  65600     | \n",
       "|     NA     | Android    | Non-Luxury |  57872     | \n",
       "|  94600     | Android    | Luxury     |  94600     | \n",
       "|  59400     | iPhone     | Luxury     |  59400     | \n",
       "|  47300     | iPhone     | Non-Luxury |  47300     | \n",
       "|  72100     | NA         | Luxury     |  72100     | \n",
       "|      0     | iPhone     | Non-Luxury |      0     | \n",
       "|      0     | Android    | Luxury     |      0     | \n",
       "|  83000     | iPhone     | Luxury     |  83000     | \n",
       "|  64100     | Android    | Non-Luxury |  64100     | \n",
       "|  42100     | iPhone     | Non-Luxury |  42100     | \n",
       "|      0     | iPhone     | Luxury     |      0     | \n",
       "|  91500     | iPhone     | Non-Luxury |  91500     | \n",
       "|  51200     | Android    | Luxury     |  51200     | \n",
       "|  13800     | iPhone     | Non-Luxury |  13800     | \n",
       "|  47500     | iPhone     | Non-Luxury |  47500     | \n",
       "\n",
       "\n"
      ],
      "text/plain": [
       "   Income Phone_type Car_type   Income.mean\n",
       "1   89800 Android    Luxury      89800     \n",
       "2   47500 Android    Non-Luxury  47500     \n",
       "3   45000 iPhone     Luxury      45000     \n",
       "4   44700 NA         Luxury      44700     \n",
       "5   59500 iPhone     Luxury      59500     \n",
       "6      NA Android    Non-Luxury  57872     \n",
       "7   63300 iPhone     Non-Luxury  63300     \n",
       "8   52900 Android    Luxury      52900     \n",
       "9   78200 Android    Luxury      78200     \n",
       "10 145100 iPhone     Luxury     145100     \n",
       "11  88600 iPhone     Non-Luxury  88600     \n",
       "12  65600 iPhone     Luxury      65600     \n",
       "13     NA Android    Non-Luxury  57872     \n",
       "14  94600 Android    Luxury      94600     \n",
       "15  59400 iPhone     Luxury      59400     \n",
       "16  47300 iPhone     Non-Luxury  47300     \n",
       "17  72100 NA         Luxury      72100     \n",
       "18      0 iPhone     Non-Luxury      0     \n",
       "19      0 Android    Luxury          0     \n",
       "20  83000 iPhone     Luxury      83000     \n",
       "21  64100 Android    Non-Luxury  64100     \n",
       "22  42100 iPhone     Non-Luxury  42100     \n",
       "23      0 iPhone     Luxury          0     \n",
       "24  91500 iPhone     Non-Luxury  91500     \n",
       "25  51200 Android    Luxury      51200     \n",
       "26  13800 iPhone     Non-Luxury  13800     \n",
       "27  47500 iPhone     Non-Luxury  47500     "
      ]
     },
     "metadata": {},
     "output_type": "display_data"
    }
   ],
   "source": [
    "data"
   ]
  },
  {
   "cell_type": "markdown",
   "metadata": {},
   "source": [
    "### Reemplazar valores por una muestra randomica  \n",
    "No siempre es valido poner la media de la variable, asi que a veces es posible y valido segun la estadistica poner un valor de una muestra aleatoria tomada de los valores que existen"
   ]
  },
  {
   "cell_type": "code",
   "execution_count": 25,
   "metadata": {
    "collapsed": true
   },
   "outputs": [],
   "source": [
    "#x puede ser un vector de datos que puede contener valores NA\n",
    "rand_impute = function(x) {\n",
    "    #vector de la misma longitud de x, que posee valores T/F\n",
    "    missing = is.na(x) \n",
    "    #n_missing es la cantidad de valores que tienen datos NA en x\n",
    "    n_missing = sum(missing)\n",
    "    #x_obs es lo contrario a missing, son los valores que tienen datos validos diferentes a NA en x\n",
    "    x_obs = x[!missing]\n",
    "    #por defecto se devuelve lo mismo que entra por parametro\n",
    "    imputed = x\n",
    "    #aqui se hace el reemplazo... los valores que faltan se reemplazan por una muestra aleatoria simple\n",
    "    #de los datos que son diferentes de NA\n",
    "    imputed[missing] = sample(x_obs, n_missing, replace = TRUE)\n",
    "    return(imputed)\n",
    "}"
   ]
  },
  {
   "cell_type": "code",
   "execution_count": 28,
   "metadata": {
    "collapsed": true
   },
   "outputs": [],
   "source": [
    "random_impute_data_frame = function(df, cols){\n",
    "    names = names(df)\n",
    "    for(col in cols){\n",
    "        name = paste(names[col], \".imputed\", sep = \"\")\n",
    "        df[name] = rand_impute(df[,col])\n",
    "    }\n",
    "    return(df)\n",
    "}"
   ]
  },
  {
   "cell_type": "markdown",
   "metadata": {},
   "source": [
    "cargando el df en limpio sin ninguna modificacion..."
   ]
  },
  {
   "cell_type": "code",
   "execution_count": 20,
   "metadata": {
    "collapsed": true
   },
   "outputs": [],
   "source": [
    "data = read.csv(\"../data/tema1/missing-data.csv\", na.strings=\"\")"
   ]
  },
  {
   "cell_type": "code",
   "execution_count": 34,
   "metadata": {},
   "outputs": [],
   "source": [
    "#primero cambio los que tienen valor 0 por un NA para que haya un mejor resultado\n",
    "data$Income[data$Income == 0] = NA\n",
    "#aplico la funcion creada\n",
    "data2 = random_impute_data_frame(data, c(1,2))"
   ]
  },
  {
   "cell_type": "code",
   "execution_count": 36,
   "metadata": {},
   "outputs": [
    {
     "data": {
      "text/html": [
       "<table>\n",
       "<thead><tr><th scope=col>Income</th><th scope=col>Phone_type</th><th scope=col>Car_type</th><th scope=col>Income.imputed</th><th scope=col>Phone_type.imputed</th></tr></thead>\n",
       "<tbody>\n",
       "\t<tr><td> 89800    </td><td>Android   </td><td>Luxury    </td><td> 89800    </td><td>Android   </td></tr>\n",
       "\t<tr><td> 47500    </td><td>Android   </td><td>Non-Luxury</td><td> 47500    </td><td>Android   </td></tr>\n",
       "\t<tr><td> 45000    </td><td>iPhone    </td><td>Luxury    </td><td> 45000    </td><td>iPhone    </td></tr>\n",
       "\t<tr><td> 44700    </td><td>NA        </td><td>Luxury    </td><td> 44700    </td><td>iPhone    </td></tr>\n",
       "\t<tr><td> 59500    </td><td>iPhone    </td><td>Luxury    </td><td> 59500    </td><td>iPhone    </td></tr>\n",
       "\t<tr><td>    NA    </td><td>Android   </td><td>Non-Luxury</td><td>145100    </td><td>Android   </td></tr>\n",
       "\t<tr><td> 63300    </td><td>iPhone    </td><td>Non-Luxury</td><td> 63300    </td><td>iPhone    </td></tr>\n",
       "\t<tr><td> 52900    </td><td>Android   </td><td>Luxury    </td><td> 52900    </td><td>Android   </td></tr>\n",
       "\t<tr><td> 78200    </td><td>Android   </td><td>Luxury    </td><td> 78200    </td><td>Android   </td></tr>\n",
       "\t<tr><td>145100    </td><td>iPhone    </td><td>Luxury    </td><td>145100    </td><td>iPhone    </td></tr>\n",
       "\t<tr><td> 88600    </td><td>iPhone    </td><td>Non-Luxury</td><td> 88600    </td><td>iPhone    </td></tr>\n",
       "\t<tr><td> 65600    </td><td>iPhone    </td><td>Luxury    </td><td> 65600    </td><td>iPhone    </td></tr>\n",
       "\t<tr><td>    NA    </td><td>Android   </td><td>Non-Luxury</td><td> 63300    </td><td>Android   </td></tr>\n",
       "\t<tr><td> 94600    </td><td>Android   </td><td>Luxury    </td><td> 94600    </td><td>Android   </td></tr>\n",
       "\t<tr><td> 59400    </td><td>iPhone    </td><td>Luxury    </td><td> 59400    </td><td>iPhone    </td></tr>\n",
       "\t<tr><td> 47300    </td><td>iPhone    </td><td>Non-Luxury</td><td> 47300    </td><td>iPhone    </td></tr>\n",
       "\t<tr><td> 72100    </td><td>NA        </td><td>Luxury    </td><td> 72100    </td><td>Android   </td></tr>\n",
       "\t<tr><td>    NA    </td><td>iPhone    </td><td>Non-Luxury</td><td> 65600    </td><td>iPhone    </td></tr>\n",
       "\t<tr><td>    NA    </td><td>Android   </td><td>Luxury    </td><td> 72100    </td><td>Android   </td></tr>\n",
       "\t<tr><td> 83000    </td><td>iPhone    </td><td>Luxury    </td><td> 83000    </td><td>iPhone    </td></tr>\n",
       "\t<tr><td> 64100    </td><td>Android   </td><td>Non-Luxury</td><td> 64100    </td><td>Android   </td></tr>\n",
       "\t<tr><td> 42100    </td><td>iPhone    </td><td>Non-Luxury</td><td> 42100    </td><td>iPhone    </td></tr>\n",
       "\t<tr><td>    NA    </td><td>iPhone    </td><td>Luxury    </td><td> 13800    </td><td>iPhone    </td></tr>\n",
       "\t<tr><td> 91500    </td><td>iPhone    </td><td>Non-Luxury</td><td> 91500    </td><td>iPhone    </td></tr>\n",
       "\t<tr><td> 51200    </td><td>Android   </td><td>Luxury    </td><td> 51200    </td><td>Android   </td></tr>\n",
       "\t<tr><td> 13800    </td><td>iPhone    </td><td>Non-Luxury</td><td> 13800    </td><td>iPhone    </td></tr>\n",
       "\t<tr><td> 47500    </td><td>iPhone    </td><td>Non-Luxury</td><td> 47500    </td><td>iPhone    </td></tr>\n",
       "</tbody>\n",
       "</table>\n"
      ],
      "text/latex": [
       "\\begin{tabular}{r|lllll}\n",
       " Income & Phone\\_type & Car\\_type & Income.imputed & Phone\\_type.imputed\\\\\n",
       "\\hline\n",
       "\t  89800     & Android    & Luxury     &  89800     & Android   \\\\\n",
       "\t  47500     & Android    & Non-Luxury &  47500     & Android   \\\\\n",
       "\t  45000     & iPhone     & Luxury     &  45000     & iPhone    \\\\\n",
       "\t  44700     & NA         & Luxury     &  44700     & iPhone    \\\\\n",
       "\t  59500     & iPhone     & Luxury     &  59500     & iPhone    \\\\\n",
       "\t     NA     & Android    & Non-Luxury & 145100     & Android   \\\\\n",
       "\t  63300     & iPhone     & Non-Luxury &  63300     & iPhone    \\\\\n",
       "\t  52900     & Android    & Luxury     &  52900     & Android   \\\\\n",
       "\t  78200     & Android    & Luxury     &  78200     & Android   \\\\\n",
       "\t 145100     & iPhone     & Luxury     & 145100     & iPhone    \\\\\n",
       "\t  88600     & iPhone     & Non-Luxury &  88600     & iPhone    \\\\\n",
       "\t  65600     & iPhone     & Luxury     &  65600     & iPhone    \\\\\n",
       "\t     NA     & Android    & Non-Luxury &  63300     & Android   \\\\\n",
       "\t  94600     & Android    & Luxury     &  94600     & Android   \\\\\n",
       "\t  59400     & iPhone     & Luxury     &  59400     & iPhone    \\\\\n",
       "\t  47300     & iPhone     & Non-Luxury &  47300     & iPhone    \\\\\n",
       "\t  72100     & NA         & Luxury     &  72100     & Android   \\\\\n",
       "\t     NA     & iPhone     & Non-Luxury &  65600     & iPhone    \\\\\n",
       "\t     NA     & Android    & Luxury     &  72100     & Android   \\\\\n",
       "\t  83000     & iPhone     & Luxury     &  83000     & iPhone    \\\\\n",
       "\t  64100     & Android    & Non-Luxury &  64100     & Android   \\\\\n",
       "\t  42100     & iPhone     & Non-Luxury &  42100     & iPhone    \\\\\n",
       "\t     NA     & iPhone     & Luxury     &  13800     & iPhone    \\\\\n",
       "\t  91500     & iPhone     & Non-Luxury &  91500     & iPhone    \\\\\n",
       "\t  51200     & Android    & Luxury     &  51200     & Android   \\\\\n",
       "\t  13800     & iPhone     & Non-Luxury &  13800     & iPhone    \\\\\n",
       "\t  47500     & iPhone     & Non-Luxury &  47500     & iPhone    \\\\\n",
       "\\end{tabular}\n"
      ],
      "text/markdown": [
       "\n",
       "Income | Phone_type | Car_type | Income.imputed | Phone_type.imputed | \n",
       "|---|---|---|---|---|---|---|---|---|---|---|---|---|---|---|---|---|---|---|---|---|---|---|---|---|---|---|\n",
       "|  89800     | Android    | Luxury     |  89800     | Android    | \n",
       "|  47500     | Android    | Non-Luxury |  47500     | Android    | \n",
       "|  45000     | iPhone     | Luxury     |  45000     | iPhone     | \n",
       "|  44700     | NA         | Luxury     |  44700     | iPhone     | \n",
       "|  59500     | iPhone     | Luxury     |  59500     | iPhone     | \n",
       "|     NA     | Android    | Non-Luxury | 145100     | Android    | \n",
       "|  63300     | iPhone     | Non-Luxury |  63300     | iPhone     | \n",
       "|  52900     | Android    | Luxury     |  52900     | Android    | \n",
       "|  78200     | Android    | Luxury     |  78200     | Android    | \n",
       "| 145100     | iPhone     | Luxury     | 145100     | iPhone     | \n",
       "|  88600     | iPhone     | Non-Luxury |  88600     | iPhone     | \n",
       "|  65600     | iPhone     | Luxury     |  65600     | iPhone     | \n",
       "|     NA     | Android    | Non-Luxury |  63300     | Android    | \n",
       "|  94600     | Android    | Luxury     |  94600     | Android    | \n",
       "|  59400     | iPhone     | Luxury     |  59400     | iPhone     | \n",
       "|  47300     | iPhone     | Non-Luxury |  47300     | iPhone     | \n",
       "|  72100     | NA         | Luxury     |  72100     | Android    | \n",
       "|     NA     | iPhone     | Non-Luxury |  65600     | iPhone     | \n",
       "|     NA     | Android    | Luxury     |  72100     | Android    | \n",
       "|  83000     | iPhone     | Luxury     |  83000     | iPhone     | \n",
       "|  64100     | Android    | Non-Luxury |  64100     | Android    | \n",
       "|  42100     | iPhone     | Non-Luxury |  42100     | iPhone     | \n",
       "|     NA     | iPhone     | Luxury     |  13800     | iPhone     | \n",
       "|  91500     | iPhone     | Non-Luxury |  91500     | iPhone     | \n",
       "|  51200     | Android    | Luxury     |  51200     | Android    | \n",
       "|  13800     | iPhone     | Non-Luxury |  13800     | iPhone     | \n",
       "|  47500     | iPhone     | Non-Luxury |  47500     | iPhone     | \n",
       "\n",
       "\n"
      ],
      "text/plain": [
       "   Income Phone_type Car_type   Income.imputed Phone_type.imputed\n",
       "1   89800 Android    Luxury      89800         Android           \n",
       "2   47500 Android    Non-Luxury  47500         Android           \n",
       "3   45000 iPhone     Luxury      45000         iPhone            \n",
       "4   44700 NA         Luxury      44700         iPhone            \n",
       "5   59500 iPhone     Luxury      59500         iPhone            \n",
       "6      NA Android    Non-Luxury 145100         Android           \n",
       "7   63300 iPhone     Non-Luxury  63300         iPhone            \n",
       "8   52900 Android    Luxury      52900         Android           \n",
       "9   78200 Android    Luxury      78200         Android           \n",
       "10 145100 iPhone     Luxury     145100         iPhone            \n",
       "11  88600 iPhone     Non-Luxury  88600         iPhone            \n",
       "12  65600 iPhone     Luxury      65600         iPhone            \n",
       "13     NA Android    Non-Luxury  63300         Android           \n",
       "14  94600 Android    Luxury      94600         Android           \n",
       "15  59400 iPhone     Luxury      59400         iPhone            \n",
       "16  47300 iPhone     Non-Luxury  47300         iPhone            \n",
       "17  72100 NA         Luxury      72100         Android           \n",
       "18     NA iPhone     Non-Luxury  65600         iPhone            \n",
       "19     NA Android    Luxury      72100         Android           \n",
       "20  83000 iPhone     Luxury      83000         iPhone            \n",
       "21  64100 Android    Non-Luxury  64100         Android           \n",
       "22  42100 iPhone     Non-Luxury  42100         iPhone            \n",
       "23     NA iPhone     Luxury      13800         iPhone            \n",
       "24  91500 iPhone     Non-Luxury  91500         iPhone            \n",
       "25  51200 Android    Luxury      51200         Android           \n",
       "26  13800 iPhone     Non-Luxury  13800         iPhone            \n",
       "27  47500 iPhone     Non-Luxury  47500         iPhone            "
      ]
     },
     "metadata": {},
     "output_type": "display_data"
    }
   ],
   "source": [
    "data2"
   ]
  },
  {
   "cell_type": "code",
   "execution_count": null,
   "metadata": {
    "collapsed": true
   },
   "outputs": [],
   "source": []
  },
  {
   "cell_type": "code",
   "execution_count": null,
   "metadata": {
    "collapsed": true
   },
   "outputs": [],
   "source": []
  }
 ],
 "metadata": {
  "kernelspec": {
   "display_name": "R",
   "language": "R",
   "name": "ir"
  },
  "language_info": {
   "codemirror_mode": "r",
   "file_extension": ".r",
   "mimetype": "text/x-r-source",
   "name": "R",
   "pygments_lexer": "r",
   "version": "3.4.1"
  }
 },
 "nbformat": 4,
 "nbformat_minor": 2
}
