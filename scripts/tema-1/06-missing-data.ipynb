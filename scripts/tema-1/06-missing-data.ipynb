{
 "cells": [
  {
   "cell_type": "markdown",
   "metadata": {
    "collapsed": true
   },
   "source": [
    "# Tema de tratamiento de valores NA"
   ]
  },
  {
   "cell_type": "code",
   "execution_count": 2,
   "metadata": {
    "collapsed": true
   },
   "outputs": [],
   "source": [
    "data = read.csv(\"../data/tema1/missing-data.csv\", na.string=\"\")"
   ]
  },
  {
   "cell_type": "code",
   "execution_count": 12,
   "metadata": {},
   "outputs": [
    {
     "data": {
      "text/html": [
       "<table>\n",
       "<thead><tr><th scope=col>Income</th><th scope=col>Phone_type</th><th scope=col>Car_type</th></tr></thead>\n",
       "<tbody>\n",
       "\t<tr><td> 89800    </td><td>Android   </td><td>Luxury    </td></tr>\n",
       "\t<tr><td> 47500    </td><td>Android   </td><td>Non-Luxury</td></tr>\n",
       "\t<tr><td> 45000    </td><td>iPhone    </td><td>Luxury    </td></tr>\n",
       "\t<tr><td> 44700    </td><td>NA        </td><td>Luxury    </td></tr>\n",
       "\t<tr><td> 59500    </td><td>iPhone    </td><td>Luxury    </td></tr>\n",
       "\t<tr><td>    NA    </td><td>Android   </td><td>Non-Luxury</td></tr>\n",
       "\t<tr><td> 63300    </td><td>iPhone    </td><td>Non-Luxury</td></tr>\n",
       "\t<tr><td> 52900    </td><td>Android   </td><td>Luxury    </td></tr>\n",
       "\t<tr><td> 78200    </td><td>Android   </td><td>Luxury    </td></tr>\n",
       "\t<tr><td>145100    </td><td>iPhone    </td><td>Luxury    </td></tr>\n",
       "\t<tr><td> 88600    </td><td>iPhone    </td><td>Non-Luxury</td></tr>\n",
       "\t<tr><td> 65600    </td><td>iPhone    </td><td>Luxury    </td></tr>\n",
       "\t<tr><td>    NA    </td><td>Android   </td><td>Non-Luxury</td></tr>\n",
       "\t<tr><td> 94600    </td><td>Android   </td><td>Luxury    </td></tr>\n",
       "\t<tr><td> 59400    </td><td>iPhone    </td><td>Luxury    </td></tr>\n",
       "\t<tr><td> 47300    </td><td>iPhone    </td><td>Non-Luxury</td></tr>\n",
       "\t<tr><td> 72100    </td><td>NA        </td><td>Luxury    </td></tr>\n",
       "\t<tr><td>     0    </td><td>iPhone    </td><td>Non-Luxury</td></tr>\n",
       "\t<tr><td>     0    </td><td>Android   </td><td>Luxury    </td></tr>\n",
       "\t<tr><td> 83000    </td><td>iPhone    </td><td>Luxury    </td></tr>\n",
       "\t<tr><td> 64100    </td><td>Android   </td><td>Non-Luxury</td></tr>\n",
       "\t<tr><td> 42100    </td><td>iPhone    </td><td>Non-Luxury</td></tr>\n",
       "\t<tr><td>     0    </td><td>iPhone    </td><td>Luxury    </td></tr>\n",
       "\t<tr><td> 91500    </td><td>iPhone    </td><td>Non-Luxury</td></tr>\n",
       "\t<tr><td> 51200    </td><td>Android   </td><td>Luxury    </td></tr>\n",
       "\t<tr><td> 13800    </td><td>iPhone    </td><td>Non-Luxury</td></tr>\n",
       "\t<tr><td> 47500    </td><td>iPhone    </td><td>Non-Luxury</td></tr>\n",
       "</tbody>\n",
       "</table>\n"
      ],
      "text/latex": [
       "\\begin{tabular}{r|lll}\n",
       " Income & Phone\\_type & Car\\_type\\\\\n",
       "\\hline\n",
       "\t  89800     & Android    & Luxury    \\\\\n",
       "\t  47500     & Android    & Non-Luxury\\\\\n",
       "\t  45000     & iPhone     & Luxury    \\\\\n",
       "\t  44700     & NA         & Luxury    \\\\\n",
       "\t  59500     & iPhone     & Luxury    \\\\\n",
       "\t     NA     & Android    & Non-Luxury\\\\\n",
       "\t  63300     & iPhone     & Non-Luxury\\\\\n",
       "\t  52900     & Android    & Luxury    \\\\\n",
       "\t  78200     & Android    & Luxury    \\\\\n",
       "\t 145100     & iPhone     & Luxury    \\\\\n",
       "\t  88600     & iPhone     & Non-Luxury\\\\\n",
       "\t  65600     & iPhone     & Luxury    \\\\\n",
       "\t     NA     & Android    & Non-Luxury\\\\\n",
       "\t  94600     & Android    & Luxury    \\\\\n",
       "\t  59400     & iPhone     & Luxury    \\\\\n",
       "\t  47300     & iPhone     & Non-Luxury\\\\\n",
       "\t  72100     & NA         & Luxury    \\\\\n",
       "\t      0     & iPhone     & Non-Luxury\\\\\n",
       "\t      0     & Android    & Luxury    \\\\\n",
       "\t  83000     & iPhone     & Luxury    \\\\\n",
       "\t  64100     & Android    & Non-Luxury\\\\\n",
       "\t  42100     & iPhone     & Non-Luxury\\\\\n",
       "\t      0     & iPhone     & Luxury    \\\\\n",
       "\t  91500     & iPhone     & Non-Luxury\\\\\n",
       "\t  51200     & Android    & Luxury    \\\\\n",
       "\t  13800     & iPhone     & Non-Luxury\\\\\n",
       "\t  47500     & iPhone     & Non-Luxury\\\\\n",
       "\\end{tabular}\n"
      ],
      "text/markdown": [
       "\n",
       "Income | Phone_type | Car_type | \n",
       "|---|---|---|---|---|---|---|---|---|---|---|---|---|---|---|---|---|---|---|---|---|---|---|---|---|---|---|\n",
       "|  89800     | Android    | Luxury     | \n",
       "|  47500     | Android    | Non-Luxury | \n",
       "|  45000     | iPhone     | Luxury     | \n",
       "|  44700     | NA         | Luxury     | \n",
       "|  59500     | iPhone     | Luxury     | \n",
       "|     NA     | Android    | Non-Luxury | \n",
       "|  63300     | iPhone     | Non-Luxury | \n",
       "|  52900     | Android    | Luxury     | \n",
       "|  78200     | Android    | Luxury     | \n",
       "| 145100     | iPhone     | Luxury     | \n",
       "|  88600     | iPhone     | Non-Luxury | \n",
       "|  65600     | iPhone     | Luxury     | \n",
       "|     NA     | Android    | Non-Luxury | \n",
       "|  94600     | Android    | Luxury     | \n",
       "|  59400     | iPhone     | Luxury     | \n",
       "|  47300     | iPhone     | Non-Luxury | \n",
       "|  72100     | NA         | Luxury     | \n",
       "|      0     | iPhone     | Non-Luxury | \n",
       "|      0     | Android    | Luxury     | \n",
       "|  83000     | iPhone     | Luxury     | \n",
       "|  64100     | Android    | Non-Luxury | \n",
       "|  42100     | iPhone     | Non-Luxury | \n",
       "|      0     | iPhone     | Luxury     | \n",
       "|  91500     | iPhone     | Non-Luxury | \n",
       "|  51200     | Android    | Luxury     | \n",
       "|  13800     | iPhone     | Non-Luxury | \n",
       "|  47500     | iPhone     | Non-Luxury | \n",
       "\n",
       "\n"
      ],
      "text/plain": [
       "   Income Phone_type Car_type  \n",
       "1   89800 Android    Luxury    \n",
       "2   47500 Android    Non-Luxury\n",
       "3   45000 iPhone     Luxury    \n",
       "4   44700 NA         Luxury    \n",
       "5   59500 iPhone     Luxury    \n",
       "6      NA Android    Non-Luxury\n",
       "7   63300 iPhone     Non-Luxury\n",
       "8   52900 Android    Luxury    \n",
       "9   78200 Android    Luxury    \n",
       "10 145100 iPhone     Luxury    \n",
       "11  88600 iPhone     Non-Luxury\n",
       "12  65600 iPhone     Luxury    \n",
       "13     NA Android    Non-Luxury\n",
       "14  94600 Android    Luxury    \n",
       "15  59400 iPhone     Luxury    \n",
       "16  47300 iPhone     Non-Luxury\n",
       "17  72100 NA         Luxury    \n",
       "18      0 iPhone     Non-Luxury\n",
       "19      0 Android    Luxury    \n",
       "20  83000 iPhone     Luxury    \n",
       "21  64100 Android    Non-Luxury\n",
       "22  42100 iPhone     Non-Luxury\n",
       "23      0 iPhone     Luxury    \n",
       "24  91500 iPhone     Non-Luxury\n",
       "25  51200 Android    Luxury    \n",
       "26  13800 iPhone     Non-Luxury\n",
       "27  47500 iPhone     Non-Luxury"
      ]
     },
     "metadata": {},
     "output_type": "display_data"
    }
   ],
   "source": [
    "data"
   ]
  },
  {
   "cell_type": "markdown",
   "metadata": {},
   "source": [
    "Para una limpieza total"
   ]
  },
  {
   "cell_type": "code",
   "execution_count": 10,
   "metadata": {
    "collapsed": true
   },
   "outputs": [],
   "source": [
    "data_cleaned = na.omit(data)"
   ]
  },
  {
   "cell_type": "code",
   "execution_count": 11,
   "metadata": {
    "scrolled": true
   },
   "outputs": [
    {
     "data": {
      "text/html": [
       "<table>\n",
       "<thead><tr><th></th><th scope=col>Income</th><th scope=col>Phone_type</th><th scope=col>Car_type</th></tr></thead>\n",
       "<tbody>\n",
       "\t<tr><th scope=row>1</th><td> 89800    </td><td>Android   </td><td>Luxury    </td></tr>\n",
       "\t<tr><th scope=row>2</th><td> 47500    </td><td>Android   </td><td>Non-Luxury</td></tr>\n",
       "\t<tr><th scope=row>3</th><td> 45000    </td><td>iPhone    </td><td>Luxury    </td></tr>\n",
       "\t<tr><th scope=row>5</th><td> 59500    </td><td>iPhone    </td><td>Luxury    </td></tr>\n",
       "\t<tr><th scope=row>7</th><td> 63300    </td><td>iPhone    </td><td>Non-Luxury</td></tr>\n",
       "\t<tr><th scope=row>8</th><td> 52900    </td><td>Android   </td><td>Luxury    </td></tr>\n",
       "\t<tr><th scope=row>9</th><td> 78200    </td><td>Android   </td><td>Luxury    </td></tr>\n",
       "\t<tr><th scope=row>10</th><td>145100    </td><td>iPhone    </td><td>Luxury    </td></tr>\n",
       "\t<tr><th scope=row>11</th><td> 88600    </td><td>iPhone    </td><td>Non-Luxury</td></tr>\n",
       "\t<tr><th scope=row>12</th><td> 65600    </td><td>iPhone    </td><td>Luxury    </td></tr>\n",
       "\t<tr><th scope=row>14</th><td> 94600    </td><td>Android   </td><td>Luxury    </td></tr>\n",
       "\t<tr><th scope=row>15</th><td> 59400    </td><td>iPhone    </td><td>Luxury    </td></tr>\n",
       "\t<tr><th scope=row>16</th><td> 47300    </td><td>iPhone    </td><td>Non-Luxury</td></tr>\n",
       "\t<tr><th scope=row>18</th><td>     0    </td><td>iPhone    </td><td>Non-Luxury</td></tr>\n",
       "\t<tr><th scope=row>19</th><td>     0    </td><td>Android   </td><td>Luxury    </td></tr>\n",
       "\t<tr><th scope=row>20</th><td> 83000    </td><td>iPhone    </td><td>Luxury    </td></tr>\n",
       "\t<tr><th scope=row>21</th><td> 64100    </td><td>Android   </td><td>Non-Luxury</td></tr>\n",
       "\t<tr><th scope=row>22</th><td> 42100    </td><td>iPhone    </td><td>Non-Luxury</td></tr>\n",
       "\t<tr><th scope=row>23</th><td>     0    </td><td>iPhone    </td><td>Luxury    </td></tr>\n",
       "\t<tr><th scope=row>24</th><td> 91500    </td><td>iPhone    </td><td>Non-Luxury</td></tr>\n",
       "\t<tr><th scope=row>25</th><td> 51200    </td><td>Android   </td><td>Luxury    </td></tr>\n",
       "\t<tr><th scope=row>26</th><td> 13800    </td><td>iPhone    </td><td>Non-Luxury</td></tr>\n",
       "\t<tr><th scope=row>27</th><td> 47500    </td><td>iPhone    </td><td>Non-Luxury</td></tr>\n",
       "</tbody>\n",
       "</table>\n"
      ],
      "text/latex": [
       "\\begin{tabular}{r|lll}\n",
       "  & Income & Phone\\_type & Car\\_type\\\\\n",
       "\\hline\n",
       "\t1 &  89800     & Android    & Luxury    \\\\\n",
       "\t2 &  47500     & Android    & Non-Luxury\\\\\n",
       "\t3 &  45000     & iPhone     & Luxury    \\\\\n",
       "\t5 &  59500     & iPhone     & Luxury    \\\\\n",
       "\t7 &  63300     & iPhone     & Non-Luxury\\\\\n",
       "\t8 &  52900     & Android    & Luxury    \\\\\n",
       "\t9 &  78200     & Android    & Luxury    \\\\\n",
       "\t10 & 145100     & iPhone     & Luxury    \\\\\n",
       "\t11 &  88600     & iPhone     & Non-Luxury\\\\\n",
       "\t12 &  65600     & iPhone     & Luxury    \\\\\n",
       "\t14 &  94600     & Android    & Luxury    \\\\\n",
       "\t15 &  59400     & iPhone     & Luxury    \\\\\n",
       "\t16 &  47300     & iPhone     & Non-Luxury\\\\\n",
       "\t18 &      0     & iPhone     & Non-Luxury\\\\\n",
       "\t19 &      0     & Android    & Luxury    \\\\\n",
       "\t20 &  83000     & iPhone     & Luxury    \\\\\n",
       "\t21 &  64100     & Android    & Non-Luxury\\\\\n",
       "\t22 &  42100     & iPhone     & Non-Luxury\\\\\n",
       "\t23 &      0     & iPhone     & Luxury    \\\\\n",
       "\t24 &  91500     & iPhone     & Non-Luxury\\\\\n",
       "\t25 &  51200     & Android    & Luxury    \\\\\n",
       "\t26 &  13800     & iPhone     & Non-Luxury\\\\\n",
       "\t27 &  47500     & iPhone     & Non-Luxury\\\\\n",
       "\\end{tabular}\n"
      ],
      "text/markdown": [
       "\n",
       "| <!--/--> | Income | Phone_type | Car_type | \n",
       "|---|---|---|---|---|---|---|---|---|---|---|---|---|---|---|---|---|---|---|---|---|---|---|\n",
       "| 1 |  89800     | Android    | Luxury     | \n",
       "| 2 |  47500     | Android    | Non-Luxury | \n",
       "| 3 |  45000     | iPhone     | Luxury     | \n",
       "| 5 |  59500     | iPhone     | Luxury     | \n",
       "| 7 |  63300     | iPhone     | Non-Luxury | \n",
       "| 8 |  52900     | Android    | Luxury     | \n",
       "| 9 |  78200     | Android    | Luxury     | \n",
       "| 10 | 145100     | iPhone     | Luxury     | \n",
       "| 11 |  88600     | iPhone     | Non-Luxury | \n",
       "| 12 |  65600     | iPhone     | Luxury     | \n",
       "| 14 |  94600     | Android    | Luxury     | \n",
       "| 15 |  59400     | iPhone     | Luxury     | \n",
       "| 16 |  47300     | iPhone     | Non-Luxury | \n",
       "| 18 |      0     | iPhone     | Non-Luxury | \n",
       "| 19 |      0     | Android    | Luxury     | \n",
       "| 20 |  83000     | iPhone     | Luxury     | \n",
       "| 21 |  64100     | Android    | Non-Luxury | \n",
       "| 22 |  42100     | iPhone     | Non-Luxury | \n",
       "| 23 |      0     | iPhone     | Luxury     | \n",
       "| 24 |  91500     | iPhone     | Non-Luxury | \n",
       "| 25 |  51200     | Android    | Luxury     | \n",
       "| 26 |  13800     | iPhone     | Non-Luxury | \n",
       "| 27 |  47500     | iPhone     | Non-Luxury | \n",
       "\n",
       "\n"
      ],
      "text/plain": [
       "   Income Phone_type Car_type  \n",
       "1   89800 Android    Luxury    \n",
       "2   47500 Android    Non-Luxury\n",
       "3   45000 iPhone     Luxury    \n",
       "5   59500 iPhone     Luxury    \n",
       "7   63300 iPhone     Non-Luxury\n",
       "8   52900 Android    Luxury    \n",
       "9   78200 Android    Luxury    \n",
       "10 145100 iPhone     Luxury    \n",
       "11  88600 iPhone     Non-Luxury\n",
       "12  65600 iPhone     Luxury    \n",
       "14  94600 Android    Luxury    \n",
       "15  59400 iPhone     Luxury    \n",
       "16  47300 iPhone     Non-Luxury\n",
       "18      0 iPhone     Non-Luxury\n",
       "19      0 Android    Luxury    \n",
       "20  83000 iPhone     Luxury    \n",
       "21  64100 Android    Non-Luxury\n",
       "22  42100 iPhone     Non-Luxury\n",
       "23      0 iPhone     Luxury    \n",
       "24  91500 iPhone     Non-Luxury\n",
       "25  51200 Android    Luxury    \n",
       "26  13800 iPhone     Non-Luxury\n",
       "27  47500 iPhone     Non-Luxury"
      ]
     },
     "metadata": {},
     "output_type": "display_data"
    }
   ],
   "source": [
    "data_cleaned"
   ]
  },
  {
   "cell_type": "markdown",
   "metadata": {},
   "source": [
    "para una limpieza selectiva: limpia solo con la condicion especificada"
   ]
  },
  {
   "cell_type": "code",
   "execution_count": 15,
   "metadata": {
    "collapsed": true
   },
   "outputs": [],
   "source": [
    "data_income_cleaned = data[!is.na(data$Income),]"
   ]
  },
  {
   "cell_type": "code",
   "execution_count": 16,
   "metadata": {
    "scrolled": true
   },
   "outputs": [
    {
     "data": {
      "text/html": [
       "<table>\n",
       "<thead><tr><th></th><th scope=col>Income</th><th scope=col>Phone_type</th><th scope=col>Car_type</th></tr></thead>\n",
       "<tbody>\n",
       "\t<tr><th scope=row>1</th><td> 89800    </td><td>Android   </td><td>Luxury    </td></tr>\n",
       "\t<tr><th scope=row>2</th><td> 47500    </td><td>Android   </td><td>Non-Luxury</td></tr>\n",
       "\t<tr><th scope=row>3</th><td> 45000    </td><td>iPhone    </td><td>Luxury    </td></tr>\n",
       "\t<tr><th scope=row>4</th><td> 44700    </td><td>NA        </td><td>Luxury    </td></tr>\n",
       "\t<tr><th scope=row>5</th><td> 59500    </td><td>iPhone    </td><td>Luxury    </td></tr>\n",
       "\t<tr><th scope=row>7</th><td> 63300    </td><td>iPhone    </td><td>Non-Luxury</td></tr>\n",
       "\t<tr><th scope=row>8</th><td> 52900    </td><td>Android   </td><td>Luxury    </td></tr>\n",
       "\t<tr><th scope=row>9</th><td> 78200    </td><td>Android   </td><td>Luxury    </td></tr>\n",
       "\t<tr><th scope=row>10</th><td>145100    </td><td>iPhone    </td><td>Luxury    </td></tr>\n",
       "\t<tr><th scope=row>11</th><td> 88600    </td><td>iPhone    </td><td>Non-Luxury</td></tr>\n",
       "\t<tr><th scope=row>12</th><td> 65600    </td><td>iPhone    </td><td>Luxury    </td></tr>\n",
       "\t<tr><th scope=row>14</th><td> 94600    </td><td>Android   </td><td>Luxury    </td></tr>\n",
       "\t<tr><th scope=row>15</th><td> 59400    </td><td>iPhone    </td><td>Luxury    </td></tr>\n",
       "\t<tr><th scope=row>16</th><td> 47300    </td><td>iPhone    </td><td>Non-Luxury</td></tr>\n",
       "\t<tr><th scope=row>17</th><td> 72100    </td><td>NA        </td><td>Luxury    </td></tr>\n",
       "\t<tr><th scope=row>18</th><td>     0    </td><td>iPhone    </td><td>Non-Luxury</td></tr>\n",
       "\t<tr><th scope=row>19</th><td>     0    </td><td>Android   </td><td>Luxury    </td></tr>\n",
       "\t<tr><th scope=row>20</th><td> 83000    </td><td>iPhone    </td><td>Luxury    </td></tr>\n",
       "\t<tr><th scope=row>21</th><td> 64100    </td><td>Android   </td><td>Non-Luxury</td></tr>\n",
       "\t<tr><th scope=row>22</th><td> 42100    </td><td>iPhone    </td><td>Non-Luxury</td></tr>\n",
       "\t<tr><th scope=row>23</th><td>     0    </td><td>iPhone    </td><td>Luxury    </td></tr>\n",
       "\t<tr><th scope=row>24</th><td> 91500    </td><td>iPhone    </td><td>Non-Luxury</td></tr>\n",
       "\t<tr><th scope=row>25</th><td> 51200    </td><td>Android   </td><td>Luxury    </td></tr>\n",
       "\t<tr><th scope=row>26</th><td> 13800    </td><td>iPhone    </td><td>Non-Luxury</td></tr>\n",
       "\t<tr><th scope=row>27</th><td> 47500    </td><td>iPhone    </td><td>Non-Luxury</td></tr>\n",
       "</tbody>\n",
       "</table>\n"
      ],
      "text/latex": [
       "\\begin{tabular}{r|lll}\n",
       "  & Income & Phone\\_type & Car\\_type\\\\\n",
       "\\hline\n",
       "\t1 &  89800     & Android    & Luxury    \\\\\n",
       "\t2 &  47500     & Android    & Non-Luxury\\\\\n",
       "\t3 &  45000     & iPhone     & Luxury    \\\\\n",
       "\t4 &  44700     & NA         & Luxury    \\\\\n",
       "\t5 &  59500     & iPhone     & Luxury    \\\\\n",
       "\t7 &  63300     & iPhone     & Non-Luxury\\\\\n",
       "\t8 &  52900     & Android    & Luxury    \\\\\n",
       "\t9 &  78200     & Android    & Luxury    \\\\\n",
       "\t10 & 145100     & iPhone     & Luxury    \\\\\n",
       "\t11 &  88600     & iPhone     & Non-Luxury\\\\\n",
       "\t12 &  65600     & iPhone     & Luxury    \\\\\n",
       "\t14 &  94600     & Android    & Luxury    \\\\\n",
       "\t15 &  59400     & iPhone     & Luxury    \\\\\n",
       "\t16 &  47300     & iPhone     & Non-Luxury\\\\\n",
       "\t17 &  72100     & NA         & Luxury    \\\\\n",
       "\t18 &      0     & iPhone     & Non-Luxury\\\\\n",
       "\t19 &      0     & Android    & Luxury    \\\\\n",
       "\t20 &  83000     & iPhone     & Luxury    \\\\\n",
       "\t21 &  64100     & Android    & Non-Luxury\\\\\n",
       "\t22 &  42100     & iPhone     & Non-Luxury\\\\\n",
       "\t23 &      0     & iPhone     & Luxury    \\\\\n",
       "\t24 &  91500     & iPhone     & Non-Luxury\\\\\n",
       "\t25 &  51200     & Android    & Luxury    \\\\\n",
       "\t26 &  13800     & iPhone     & Non-Luxury\\\\\n",
       "\t27 &  47500     & iPhone     & Non-Luxury\\\\\n",
       "\\end{tabular}\n"
      ],
      "text/markdown": [
       "\n",
       "| <!--/--> | Income | Phone_type | Car_type | \n",
       "|---|---|---|---|---|---|---|---|---|---|---|---|---|---|---|---|---|---|---|---|---|---|---|---|---|\n",
       "| 1 |  89800     | Android    | Luxury     | \n",
       "| 2 |  47500     | Android    | Non-Luxury | \n",
       "| 3 |  45000     | iPhone     | Luxury     | \n",
       "| 4 |  44700     | NA         | Luxury     | \n",
       "| 5 |  59500     | iPhone     | Luxury     | \n",
       "| 7 |  63300     | iPhone     | Non-Luxury | \n",
       "| 8 |  52900     | Android    | Luxury     | \n",
       "| 9 |  78200     | Android    | Luxury     | \n",
       "| 10 | 145100     | iPhone     | Luxury     | \n",
       "| 11 |  88600     | iPhone     | Non-Luxury | \n",
       "| 12 |  65600     | iPhone     | Luxury     | \n",
       "| 14 |  94600     | Android    | Luxury     | \n",
       "| 15 |  59400     | iPhone     | Luxury     | \n",
       "| 16 |  47300     | iPhone     | Non-Luxury | \n",
       "| 17 |  72100     | NA         | Luxury     | \n",
       "| 18 |      0     | iPhone     | Non-Luxury | \n",
       "| 19 |      0     | Android    | Luxury     | \n",
       "| 20 |  83000     | iPhone     | Luxury     | \n",
       "| 21 |  64100     | Android    | Non-Luxury | \n",
       "| 22 |  42100     | iPhone     | Non-Luxury | \n",
       "| 23 |      0     | iPhone     | Luxury     | \n",
       "| 24 |  91500     | iPhone     | Non-Luxury | \n",
       "| 25 |  51200     | Android    | Luxury     | \n",
       "| 26 |  13800     | iPhone     | Non-Luxury | \n",
       "| 27 |  47500     | iPhone     | Non-Luxury | \n",
       "\n",
       "\n"
      ],
      "text/plain": [
       "   Income Phone_type Car_type  \n",
       "1   89800 Android    Luxury    \n",
       "2   47500 Android    Non-Luxury\n",
       "3   45000 iPhone     Luxury    \n",
       "4   44700 NA         Luxury    \n",
       "5   59500 iPhone     Luxury    \n",
       "7   63300 iPhone     Non-Luxury\n",
       "8   52900 Android    Luxury    \n",
       "9   78200 Android    Luxury    \n",
       "10 145100 iPhone     Luxury    \n",
       "11  88600 iPhone     Non-Luxury\n",
       "12  65600 iPhone     Luxury    \n",
       "14  94600 Android    Luxury    \n",
       "15  59400 iPhone     Luxury    \n",
       "16  47300 iPhone     Non-Luxury\n",
       "17  72100 NA         Luxury    \n",
       "18      0 iPhone     Non-Luxury\n",
       "19      0 Android    Luxury    \n",
       "20  83000 iPhone     Luxury    \n",
       "21  64100 Android    Non-Luxury\n",
       "22  42100 iPhone     Non-Luxury\n",
       "23      0 iPhone     Luxury    \n",
       "24  91500 iPhone     Non-Luxury\n",
       "25  51200 Android    Luxury    \n",
       "26  13800 iPhone     Non-Luxury\n",
       "27  47500 iPhone     Non-Luxury"
      ]
     },
     "metadata": {},
     "output_type": "display_data"
    }
   ],
   "source": [
    "data_income_cleaned"
   ]
  },
  {
   "cell_type": "code",
   "execution_count": 3,
   "metadata": {},
   "outputs": [
    {
     "data": {
      "text/html": [
       "<table>\n",
       "<thead><tr><th></th><th scope=col>Income</th><th scope=col>Phone_type</th><th scope=col>Car_type</th></tr></thead>\n",
       "<tbody>\n",
       "\t<tr><th scope=row>1</th><td> 89800    </td><td>Android   </td><td>Luxury    </td></tr>\n",
       "\t<tr><th scope=row>2</th><td> 47500    </td><td>Android   </td><td>Non-Luxury</td></tr>\n",
       "\t<tr><th scope=row>3</th><td> 45000    </td><td>iPhone    </td><td>Luxury    </td></tr>\n",
       "\t<tr><th scope=row>5</th><td> 59500    </td><td>iPhone    </td><td>Luxury    </td></tr>\n",
       "\t<tr><th scope=row>7</th><td> 63300    </td><td>iPhone    </td><td>Non-Luxury</td></tr>\n",
       "\t<tr><th scope=row>8</th><td> 52900    </td><td>Android   </td><td>Luxury    </td></tr>\n",
       "\t<tr><th scope=row>9</th><td> 78200    </td><td>Android   </td><td>Luxury    </td></tr>\n",
       "\t<tr><th scope=row>10</th><td>145100    </td><td>iPhone    </td><td>Luxury    </td></tr>\n",
       "\t<tr><th scope=row>11</th><td> 88600    </td><td>iPhone    </td><td>Non-Luxury</td></tr>\n",
       "\t<tr><th scope=row>12</th><td> 65600    </td><td>iPhone    </td><td>Luxury    </td></tr>\n",
       "\t<tr><th scope=row>14</th><td> 94600    </td><td>Android   </td><td>Luxury    </td></tr>\n",
       "\t<tr><th scope=row>15</th><td> 59400    </td><td>iPhone    </td><td>Luxury    </td></tr>\n",
       "\t<tr><th scope=row>16</th><td> 47300    </td><td>iPhone    </td><td>Non-Luxury</td></tr>\n",
       "\t<tr><th scope=row>18</th><td>     0    </td><td>iPhone    </td><td>Non-Luxury</td></tr>\n",
       "\t<tr><th scope=row>19</th><td>     0    </td><td>Android   </td><td>Luxury    </td></tr>\n",
       "\t<tr><th scope=row>20</th><td> 83000    </td><td>iPhone    </td><td>Luxury    </td></tr>\n",
       "\t<tr><th scope=row>21</th><td> 64100    </td><td>Android   </td><td>Non-Luxury</td></tr>\n",
       "\t<tr><th scope=row>22</th><td> 42100    </td><td>iPhone    </td><td>Non-Luxury</td></tr>\n",
       "\t<tr><th scope=row>23</th><td>     0    </td><td>iPhone    </td><td>Luxury    </td></tr>\n",
       "\t<tr><th scope=row>24</th><td> 91500    </td><td>iPhone    </td><td>Non-Luxury</td></tr>\n",
       "\t<tr><th scope=row>25</th><td> 51200    </td><td>Android   </td><td>Luxury    </td></tr>\n",
       "\t<tr><th scope=row>26</th><td> 13800    </td><td>iPhone    </td><td>Non-Luxury</td></tr>\n",
       "\t<tr><th scope=row>27</th><td> 47500    </td><td>iPhone    </td><td>Non-Luxury</td></tr>\n",
       "</tbody>\n",
       "</table>\n"
      ],
      "text/latex": [
       "\\begin{tabular}{r|lll}\n",
       "  & Income & Phone\\_type & Car\\_type\\\\\n",
       "\\hline\n",
       "\t1 &  89800     & Android    & Luxury    \\\\\n",
       "\t2 &  47500     & Android    & Non-Luxury\\\\\n",
       "\t3 &  45000     & iPhone     & Luxury    \\\\\n",
       "\t5 &  59500     & iPhone     & Luxury    \\\\\n",
       "\t7 &  63300     & iPhone     & Non-Luxury\\\\\n",
       "\t8 &  52900     & Android    & Luxury    \\\\\n",
       "\t9 &  78200     & Android    & Luxury    \\\\\n",
       "\t10 & 145100     & iPhone     & Luxury    \\\\\n",
       "\t11 &  88600     & iPhone     & Non-Luxury\\\\\n",
       "\t12 &  65600     & iPhone     & Luxury    \\\\\n",
       "\t14 &  94600     & Android    & Luxury    \\\\\n",
       "\t15 &  59400     & iPhone     & Luxury    \\\\\n",
       "\t16 &  47300     & iPhone     & Non-Luxury\\\\\n",
       "\t18 &      0     & iPhone     & Non-Luxury\\\\\n",
       "\t19 &      0     & Android    & Luxury    \\\\\n",
       "\t20 &  83000     & iPhone     & Luxury    \\\\\n",
       "\t21 &  64100     & Android    & Non-Luxury\\\\\n",
       "\t22 &  42100     & iPhone     & Non-Luxury\\\\\n",
       "\t23 &      0     & iPhone     & Luxury    \\\\\n",
       "\t24 &  91500     & iPhone     & Non-Luxury\\\\\n",
       "\t25 &  51200     & Android    & Luxury    \\\\\n",
       "\t26 &  13800     & iPhone     & Non-Luxury\\\\\n",
       "\t27 &  47500     & iPhone     & Non-Luxury\\\\\n",
       "\\end{tabular}\n"
      ],
      "text/markdown": [
       "\n",
       "| <!--/--> | Income | Phone_type | Car_type | \n",
       "|---|---|---|---|---|---|---|---|---|---|---|---|---|---|---|---|---|---|---|---|---|---|---|\n",
       "| 1 |  89800     | Android    | Luxury     | \n",
       "| 2 |  47500     | Android    | Non-Luxury | \n",
       "| 3 |  45000     | iPhone     | Luxury     | \n",
       "| 5 |  59500     | iPhone     | Luxury     | \n",
       "| 7 |  63300     | iPhone     | Non-Luxury | \n",
       "| 8 |  52900     | Android    | Luxury     | \n",
       "| 9 |  78200     | Android    | Luxury     | \n",
       "| 10 | 145100     | iPhone     | Luxury     | \n",
       "| 11 |  88600     | iPhone     | Non-Luxury | \n",
       "| 12 |  65600     | iPhone     | Luxury     | \n",
       "| 14 |  94600     | Android    | Luxury     | \n",
       "| 15 |  59400     | iPhone     | Luxury     | \n",
       "| 16 |  47300     | iPhone     | Non-Luxury | \n",
       "| 18 |      0     | iPhone     | Non-Luxury | \n",
       "| 19 |      0     | Android    | Luxury     | \n",
       "| 20 |  83000     | iPhone     | Luxury     | \n",
       "| 21 |  64100     | Android    | Non-Luxury | \n",
       "| 22 |  42100     | iPhone     | Non-Luxury | \n",
       "| 23 |      0     | iPhone     | Luxury     | \n",
       "| 24 |  91500     | iPhone     | Non-Luxury | \n",
       "| 25 |  51200     | Android    | Luxury     | \n",
       "| 26 |  13800     | iPhone     | Non-Luxury | \n",
       "| 27 |  47500     | iPhone     | Non-Luxury | \n",
       "\n",
       "\n"
      ],
      "text/plain": [
       "   Income Phone_type Car_type  \n",
       "1   89800 Android    Luxury    \n",
       "2   47500 Android    Non-Luxury\n",
       "3   45000 iPhone     Luxury    \n",
       "5   59500 iPhone     Luxury    \n",
       "7   63300 iPhone     Non-Luxury\n",
       "8   52900 Android    Luxury    \n",
       "9   78200 Android    Luxury    \n",
       "10 145100 iPhone     Luxury    \n",
       "11  88600 iPhone     Non-Luxury\n",
       "12  65600 iPhone     Luxury    \n",
       "14  94600 Android    Luxury    \n",
       "15  59400 iPhone     Luxury    \n",
       "16  47300 iPhone     Non-Luxury\n",
       "18      0 iPhone     Non-Luxury\n",
       "19      0 Android    Luxury    \n",
       "20  83000 iPhone     Luxury    \n",
       "21  64100 Android    Non-Luxury\n",
       "22  42100 iPhone     Non-Luxury\n",
       "23      0 iPhone     Luxury    \n",
       "24  91500 iPhone     Non-Luxury\n",
       "25  51200 Android    Luxury    \n",
       "26  13800 iPhone     Non-Luxury\n",
       "27  47500 iPhone     Non-Luxury"
      ]
     },
     "metadata": {},
     "output_type": "display_data"
    }
   ],
   "source": [
    "#otra manera:\n",
    "data_cleaned_2 = data[complete.cases(data),]\n",
    "data_cleaned_2"
   ]
  },
  {
   "cell_type": "code",
   "execution_count": 5,
   "metadata": {
    "collapsed": true
   },
   "outputs": [],
   "source": [
    "#los valores que tenemos en 0 los podemos convertir a NA asi\n",
    "data$Income[data$Income == 0] = NA"
   ]
  },
  {
   "cell_type": "markdown",
   "metadata": {
    "collapsed": true
   },
   "source": [
    "Medidas de centralizacion y dispersion"
   ]
  },
  {
   "cell_type": "markdown",
   "metadata": {},
   "source": [
    "### Media (mean)"
   ]
  },
  {
   "cell_type": "code",
   "execution_count": 7,
   "metadata": {},
   "outputs": [
    {
     "data": {
      "text/html": [
       "&lt;NA&gt;"
      ],
      "text/latex": [
       "<NA>"
      ],
      "text/markdown": [
       "&lt;NA&gt;"
      ],
      "text/plain": [
       "[1] NA"
      ]
     },
     "metadata": {},
     "output_type": "display_data"
    }
   ],
   "source": [
    "#Se obtiene un valor NA porque existen valores NA en ese parametro\n",
    "mean(data$Income)"
   ]
  },
  {
   "cell_type": "code",
   "execution_count": 9,
   "metadata": {},
   "outputs": [
    {
     "data": {
      "text/html": [
       "65763.6363636364"
      ],
      "text/latex": [
       "65763.6363636364"
      ],
      "text/markdown": [
       "65763.6363636364"
      ],
      "text/plain": [
       "[1] 65763.64"
      ]
     },
     "metadata": {},
     "output_type": "display_data"
    }
   ],
   "source": [
    "#se deben omitir estos valores NA para poder obtener una respuesta logica\n",
    "mean(data$Income, na.rm = TRUE)"
   ]
  },
  {
   "cell_type": "markdown",
   "metadata": {},
   "source": [
    "### Desviacion estandar (sd)"
   ]
  },
  {
   "cell_type": "code",
   "execution_count": 11,
   "metadata": {},
   "outputs": [
    {
     "data": {
      "text/html": [
       "&lt;NA&gt;"
      ],
      "text/latex": [
       "<NA>"
      ],
      "text/markdown": [
       "&lt;NA&gt;"
      ],
      "text/plain": [
       "[1] NA"
      ]
     },
     "metadata": {},
     "output_type": "display_data"
    }
   ],
   "source": [
    "#Lo mismo sucede con la desviacion estandar, no puede obtener un valor numerico porque existen valores NA\n",
    "sd(data$Income)"
   ]
  },
  {
   "cell_type": "code",
   "execution_count": 12,
   "metadata": {},
   "outputs": [
    {
     "data": {
      "text/html": [
       "26715.8691106552"
      ],
      "text/latex": [
       "26715.8691106552"
      ],
      "text/markdown": [
       "26715.8691106552"
      ],
      "text/plain": [
       "[1] 26715.87"
      ]
     },
     "metadata": {},
     "output_type": "display_data"
    }
   ],
   "source": [
    "sd(data$Income, na.rm=TRUE)"
   ]
  }
 ],
 "metadata": {
  "kernelspec": {
   "display_name": "R",
   "language": "R",
   "name": "ir"
  },
  "language_info": {
   "codemirror_mode": "r",
   "file_extension": ".r",
   "mimetype": "text/x-r-source",
   "name": "R",
   "pygments_lexer": "r",
   "version": "3.4.1"
  }
 },
 "nbformat": 4,
 "nbformat_minor": 2
}
