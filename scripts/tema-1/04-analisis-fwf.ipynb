{
 "cells": [
  {
   "cell_type": "markdown",
   "metadata": {},
   "source": [
    "## Cuarta Clase... Ficheros de ancho fijo (fwf:fixed width files)"
   ]
  },
  {
   "cell_type": "code",
   "execution_count": 1,
   "metadata": {
    "collapsed": true
   },
   "outputs": [],
   "source": [
    "students_data = read.fwf(\"../data/tema1/student-fwf.txt\", widths=c(4, 15, 20, 15, 4), \n",
    "                        col.names=c(\"id\", \"nombre\", \"email\", \"carrera\", \"año\"))"
   ]
  },
  {
   "cell_type": "code",
   "execution_count": 7,
   "metadata": {},
   "outputs": [
    {
     "data": {
      "text/html": [
       "<table>\n",
       "<thead><tr><th scope=col>id</th><th scope=col>nombre</th><th scope=col>email</th><th scope=col>carrera</th><th scope=col>año</th></tr></thead>\n",
       "<tbody>\n",
       "\t<tr><td>1044                </td><td>Fran Morton         </td><td>fran.m@quama.edu    </td><td>Statistics          </td><td>2015                </td></tr>\n",
       "\t<tr><td>1035                </td><td>Kato Mullins        </td><td>tempor@giat.com     </td><td>Marketing           </td><td>2014                </td></tr>\n",
       "\t<tr><td>1046                </td><td>Jordan Keller       </td><td>Cum@gmail.com       </td><td>Chemistry           </td><td>2014                </td></tr>\n",
       "\t<tr><td>1084                </td><td>Macey Simpson       </td><td>eu@famesacturpis.com</td><td>Finance             </td><td>2016                </td></tr>\n",
       "\t<tr><td>1010                </td><td>Deanna Ortega       </td><td>Dea.Ortega@velit.ca </td><td>Chemistry           </td><td>2016                </td></tr>\n",
       "\t<tr><td>1096                </td><td>Joe Eaton           </td><td>je@euismod.org      </td><td>MIS                 </td><td>2014                </td></tr>\n",
       "\t<tr><td>1051                </td><td>Yoko Washington     </td><td>yoko@yahoo.co.uk    </td><td>Marketing           </td><td>2017                </td></tr>\n",
       "\t<tr><td>1074                </td><td>Ebony Farrell       </td><td>efarrella@gravid.com</td><td>Chemistry           </td><td>2017                </td></tr>\n",
       "\t<tr><td>1034                </td><td>Quinn Delacruz      </td><td>Delacruz@shu.edu    </td><td>Marketing           </td><td>2017                </td></tr>\n",
       "\t<tr><td>1028                </td><td>Magee Humphrey      </td><td>mageehump@gmail.com </td><td>Physics             </td><td>2016                </td></tr>\n",
       "\t<tr><td>1003                </td><td>Kaitlin Cooper      </td><td>kcooper@hotmail.com </td><td>Accounting          </td><td>2014                </td></tr>\n",
       "\t<tr><td>1021                </td><td>Carson Roy          </td><td>croy@yahoo.com      </td><td>History             </td><td>2017                </td></tr>\n",
       "</tbody>\n",
       "</table>\n"
      ],
      "text/latex": [
       "\\begin{tabular}{r|lllll}\n",
       " id & nombre & email & carrera & año\\\\\n",
       "\\hline\n",
       "\t 1044                 & Fran Morton          & fran.m@quama.edu     & Statistics           & 2015                \\\\\n",
       "\t 1035                 & Kato Mullins         & tempor@giat.com      & Marketing            & 2014                \\\\\n",
       "\t 1046                 & Jordan Keller        & Cum@gmail.com        & Chemistry            & 2014                \\\\\n",
       "\t 1084                 & Macey Simpson        & eu@famesacturpis.com & Finance              & 2016                \\\\\n",
       "\t 1010                 & Deanna Ortega        & Dea.Ortega@velit.ca  & Chemistry            & 2016                \\\\\n",
       "\t 1096                 & Joe Eaton            & je@euismod.org       & MIS                  & 2014                \\\\\n",
       "\t 1051                 & Yoko Washington      & yoko@yahoo.co.uk     & Marketing            & 2017                \\\\\n",
       "\t 1074                 & Ebony Farrell        & efarrella@gravid.com & Chemistry            & 2017                \\\\\n",
       "\t 1034                 & Quinn Delacruz       & Delacruz@shu.edu     & Marketing            & 2017                \\\\\n",
       "\t 1028                 & Magee Humphrey       & mageehump@gmail.com  & Physics              & 2016                \\\\\n",
       "\t 1003                 & Kaitlin Cooper       & kcooper@hotmail.com  & Accounting           & 2014                \\\\\n",
       "\t 1021                 & Carson Roy           & croy@yahoo.com       & History              & 2017                \\\\\n",
       "\\end{tabular}\n"
      ],
      "text/markdown": [
       "\n",
       "id | nombre | email | carrera | año | \n",
       "|---|---|---|---|---|---|---|---|---|---|---|---|\n",
       "| 1044                 | Fran Morton          | fran.m@quama.edu     | Statistics           | 2015                 | \n",
       "| 1035                 | Kato Mullins         | tempor@giat.com      | Marketing            | 2014                 | \n",
       "| 1046                 | Jordan Keller        | Cum@gmail.com        | Chemistry            | 2014                 | \n",
       "| 1084                 | Macey Simpson        | eu@famesacturpis.com | Finance              | 2016                 | \n",
       "| 1010                 | Deanna Ortega        | Dea.Ortega@velit.ca  | Chemistry            | 2016                 | \n",
       "| 1096                 | Joe Eaton            | je@euismod.org       | MIS                  | 2014                 | \n",
       "| 1051                 | Yoko Washington      | yoko@yahoo.co.uk     | Marketing            | 2017                 | \n",
       "| 1074                 | Ebony Farrell        | efarrella@gravid.com | Chemistry            | 2017                 | \n",
       "| 1034                 | Quinn Delacruz       | Delacruz@shu.edu     | Marketing            | 2017                 | \n",
       "| 1028                 | Magee Humphrey       | mageehump@gmail.com  | Physics              | 2016                 | \n",
       "| 1003                 | Kaitlin Cooper       | kcooper@hotmail.com  | Accounting           | 2014                 | \n",
       "| 1021                 | Carson Roy           | croy@yahoo.com       | History              | 2017                 | \n",
       "\n",
       "\n"
      ],
      "text/plain": [
       "   id   nombre          email                carrera         año \n",
       "1  1044 Fran Morton     fran.m@quama.edu     Statistics      2015\n",
       "2  1035 Kato Mullins    tempor@giat.com      Marketing       2014\n",
       "3  1046 Jordan Keller   Cum@gmail.com        Chemistry       2014\n",
       "4  1084 Macey Simpson   eu@famesacturpis.com Finance         2016\n",
       "5  1010 Deanna Ortega   Dea.Ortega@velit.ca  Chemistry       2016\n",
       "6  1096 Joe Eaton       je@euismod.org       MIS             2014\n",
       "7  1051 Yoko Washington yoko@yahoo.co.uk     Marketing       2017\n",
       "8  1074 Ebony Farrell   efarrella@gravid.com Chemistry       2017\n",
       "9  1034 Quinn Delacruz  Delacruz@shu.edu     Marketing       2017\n",
       "10 1028 Magee Humphrey  mageehump@gmail.com  Physics         2016\n",
       "11 1003 Kaitlin Cooper  kcooper@hotmail.com  Accounting      2014\n",
       "12 1021 Carson Roy      croy@yahoo.com       History         2017"
      ]
     },
     "metadata": {},
     "output_type": "display_data"
    }
   ],
   "source": [
    "students_data"
   ]
  },
  {
   "cell_type": "code",
   "execution_count": 5,
   "metadata": {
    "collapsed": true
   },
   "outputs": [],
   "source": [
    "students_header = read.fwf(\"../data/tema1/student-fwf-header.txt\", widths = c(4, 15, 20, 15, 4), \n",
    "                           header = TRUE, sep = \"\\t\", skip = 2)"
   ]
  },
  {
   "cell_type": "code",
   "execution_count": 8,
   "metadata": {},
   "outputs": [
    {
     "data": {
      "text/html": [
       "<table>\n",
       "<thead><tr><th scope=col>ID</th><th scope=col>Name</th><th scope=col>Email</th><th scope=col>Major</th><th scope=col>Year</th></tr></thead>\n",
       "<tbody>\n",
       "\t<tr><td>1044                </td><td>Fran Morton         </td><td>fran.m@quama.edu    </td><td>Statistics          </td><td>2015                </td></tr>\n",
       "\t<tr><td>1035                </td><td>Kato Mullins        </td><td>tempor@giat.com     </td><td>Marketing           </td><td>2014                </td></tr>\n",
       "\t<tr><td>1046                </td><td>Jordan Keller       </td><td>Cum@gmail.com       </td><td>Chemistry           </td><td>2014                </td></tr>\n",
       "\t<tr><td>1084                </td><td>Macey Simpson       </td><td>eu@famesacturpis.com</td><td>Finance             </td><td>2016                </td></tr>\n",
       "\t<tr><td>1010                </td><td>Deanna Ortega       </td><td>Dea.Ortega@velit.ca </td><td>Chemistry           </td><td>2016                </td></tr>\n",
       "\t<tr><td>1096                </td><td>Joe Eaton           </td><td>je@euismod.org      </td><td>MIS                 </td><td>2014                </td></tr>\n",
       "\t<tr><td>1051                </td><td>Yoko Washington     </td><td>yoko@yahoo.co.uk    </td><td>Marketing           </td><td>2017                </td></tr>\n",
       "\t<tr><td>1074                </td><td>Ebony Farrell       </td><td>efarrella@gravid.com</td><td>Chemistry           </td><td>2017                </td></tr>\n",
       "\t<tr><td>1034                </td><td>Quinn Delacruz      </td><td>Delacruz@shu.edu    </td><td>Marketing           </td><td>2017                </td></tr>\n",
       "\t<tr><td>1028                </td><td>Magee Humphrey      </td><td>mageehump@gmail.com </td><td>Physics             </td><td>2016                </td></tr>\n",
       "\t<tr><td>1003                </td><td>Kaitlin Cooper      </td><td>kcooper@hotmail.com </td><td>Accounting          </td><td>2014                </td></tr>\n",
       "\t<tr><td>1021                </td><td>Carson Roy          </td><td>croy@yahoo.com      </td><td>History             </td><td>2017                </td></tr>\n",
       "</tbody>\n",
       "</table>\n"
      ],
      "text/latex": [
       "\\begin{tabular}{r|lllll}\n",
       " ID & Name & Email & Major & Year\\\\\n",
       "\\hline\n",
       "\t 1044                 & Fran Morton          & fran.m@quama.edu     & Statistics           & 2015                \\\\\n",
       "\t 1035                 & Kato Mullins         & tempor@giat.com      & Marketing            & 2014                \\\\\n",
       "\t 1046                 & Jordan Keller        & Cum@gmail.com        & Chemistry            & 2014                \\\\\n",
       "\t 1084                 & Macey Simpson        & eu@famesacturpis.com & Finance              & 2016                \\\\\n",
       "\t 1010                 & Deanna Ortega        & Dea.Ortega@velit.ca  & Chemistry            & 2016                \\\\\n",
       "\t 1096                 & Joe Eaton            & je@euismod.org       & MIS                  & 2014                \\\\\n",
       "\t 1051                 & Yoko Washington      & yoko@yahoo.co.uk     & Marketing            & 2017                \\\\\n",
       "\t 1074                 & Ebony Farrell        & efarrella@gravid.com & Chemistry            & 2017                \\\\\n",
       "\t 1034                 & Quinn Delacruz       & Delacruz@shu.edu     & Marketing            & 2017                \\\\\n",
       "\t 1028                 & Magee Humphrey       & mageehump@gmail.com  & Physics              & 2016                \\\\\n",
       "\t 1003                 & Kaitlin Cooper       & kcooper@hotmail.com  & Accounting           & 2014                \\\\\n",
       "\t 1021                 & Carson Roy           & croy@yahoo.com       & History              & 2017                \\\\\n",
       "\\end{tabular}\n"
      ],
      "text/markdown": [
       "\n",
       "ID | Name | Email | Major | Year | \n",
       "|---|---|---|---|---|---|---|---|---|---|---|---|\n",
       "| 1044                 | Fran Morton          | fran.m@quama.edu     | Statistics           | 2015                 | \n",
       "| 1035                 | Kato Mullins         | tempor@giat.com      | Marketing            | 2014                 | \n",
       "| 1046                 | Jordan Keller        | Cum@gmail.com        | Chemistry            | 2014                 | \n",
       "| 1084                 | Macey Simpson        | eu@famesacturpis.com | Finance              | 2016                 | \n",
       "| 1010                 | Deanna Ortega        | Dea.Ortega@velit.ca  | Chemistry            | 2016                 | \n",
       "| 1096                 | Joe Eaton            | je@euismod.org       | MIS                  | 2014                 | \n",
       "| 1051                 | Yoko Washington      | yoko@yahoo.co.uk     | Marketing            | 2017                 | \n",
       "| 1074                 | Ebony Farrell        | efarrella@gravid.com | Chemistry            | 2017                 | \n",
       "| 1034                 | Quinn Delacruz       | Delacruz@shu.edu     | Marketing            | 2017                 | \n",
       "| 1028                 | Magee Humphrey       | mageehump@gmail.com  | Physics              | 2016                 | \n",
       "| 1003                 | Kaitlin Cooper       | kcooper@hotmail.com  | Accounting           | 2014                 | \n",
       "| 1021                 | Carson Roy           | croy@yahoo.com       | History              | 2017                 | \n",
       "\n",
       "\n"
      ],
      "text/plain": [
       "   ID   Name            Email                Major           Year\n",
       "1  1044 Fran Morton     fran.m@quama.edu     Statistics      2015\n",
       "2  1035 Kato Mullins    tempor@giat.com      Marketing       2014\n",
       "3  1046 Jordan Keller   Cum@gmail.com        Chemistry       2014\n",
       "4  1084 Macey Simpson   eu@famesacturpis.com Finance         2016\n",
       "5  1010 Deanna Ortega   Dea.Ortega@velit.ca  Chemistry       2016\n",
       "6  1096 Joe Eaton       je@euismod.org       MIS             2014\n",
       "7  1051 Yoko Washington yoko@yahoo.co.uk     Marketing       2017\n",
       "8  1074 Ebony Farrell   efarrella@gravid.com Chemistry       2017\n",
       "9  1034 Quinn Delacruz  Delacruz@shu.edu     Marketing       2017\n",
       "10 1028 Magee Humphrey  mageehump@gmail.com  Physics         2016\n",
       "11 1003 Kaitlin Cooper  kcooper@hotmail.com  Accounting      2014\n",
       "12 1021 Carson Roy      croy@yahoo.com       History         2017"
      ]
     },
     "metadata": {},
     "output_type": "display_data"
    }
   ],
   "source": [
    "students_header"
   ]
  },
  {
   "cell_type": "markdown",
   "metadata": {},
   "source": [
    "para excluir una columna... se pone la longitud en negativo y se elimina el nombre de la lista de nombres"
   ]
  },
  {
   "cell_type": "code",
   "execution_count": 10,
   "metadata": {
    "collapsed": true
   },
   "outputs": [],
   "source": [
    "students_data_no_email = read.fwf(\"../data/tema1/student-fwf.txt\", widths=c(4, 15, -20, 15, 4), \n",
    "                        col.names=c(\"id\", \"nombre\", \"carrera\", \"año\"))"
   ]
  },
  {
   "cell_type": "code",
   "execution_count": 11,
   "metadata": {},
   "outputs": [
    {
     "data": {
      "text/html": [
       "<table>\n",
       "<thead><tr><th scope=col>id</th><th scope=col>nombre</th><th scope=col>carrera</th><th scope=col>año</th></tr></thead>\n",
       "<tbody>\n",
       "\t<tr><td>1044           </td><td>Fran Morton    </td><td>Statistics     </td><td>2015           </td></tr>\n",
       "\t<tr><td>1035           </td><td>Kato Mullins   </td><td>Marketing      </td><td>2014           </td></tr>\n",
       "\t<tr><td>1046           </td><td>Jordan Keller  </td><td>Chemistry      </td><td>2014           </td></tr>\n",
       "\t<tr><td>1084           </td><td>Macey Simpson  </td><td>Finance        </td><td>2016           </td></tr>\n",
       "\t<tr><td>1010           </td><td>Deanna Ortega  </td><td>Chemistry      </td><td>2016           </td></tr>\n",
       "\t<tr><td>1096           </td><td>Joe Eaton      </td><td>MIS            </td><td>2014           </td></tr>\n",
       "\t<tr><td>1051           </td><td>Yoko Washington</td><td>Marketing      </td><td>2017           </td></tr>\n",
       "\t<tr><td>1074           </td><td>Ebony Farrell  </td><td>Chemistry      </td><td>2017           </td></tr>\n",
       "\t<tr><td>1034           </td><td>Quinn Delacruz </td><td>Marketing      </td><td>2017           </td></tr>\n",
       "\t<tr><td>1028           </td><td>Magee Humphrey </td><td>Physics        </td><td>2016           </td></tr>\n",
       "\t<tr><td>1003           </td><td>Kaitlin Cooper </td><td>Accounting     </td><td>2014           </td></tr>\n",
       "\t<tr><td>1021           </td><td>Carson Roy     </td><td>History        </td><td>2017           </td></tr>\n",
       "</tbody>\n",
       "</table>\n"
      ],
      "text/latex": [
       "\\begin{tabular}{r|llll}\n",
       " id & nombre & carrera & año\\\\\n",
       "\\hline\n",
       "\t 1044            & Fran Morton     & Statistics      & 2015           \\\\\n",
       "\t 1035            & Kato Mullins    & Marketing       & 2014           \\\\\n",
       "\t 1046            & Jordan Keller   & Chemistry       & 2014           \\\\\n",
       "\t 1084            & Macey Simpson   & Finance         & 2016           \\\\\n",
       "\t 1010            & Deanna Ortega   & Chemistry       & 2016           \\\\\n",
       "\t 1096            & Joe Eaton       & MIS             & 2014           \\\\\n",
       "\t 1051            & Yoko Washington & Marketing       & 2017           \\\\\n",
       "\t 1074            & Ebony Farrell   & Chemistry       & 2017           \\\\\n",
       "\t 1034            & Quinn Delacruz  & Marketing       & 2017           \\\\\n",
       "\t 1028            & Magee Humphrey  & Physics         & 2016           \\\\\n",
       "\t 1003            & Kaitlin Cooper  & Accounting      & 2014           \\\\\n",
       "\t 1021            & Carson Roy      & History         & 2017           \\\\\n",
       "\\end{tabular}\n"
      ],
      "text/markdown": [
       "\n",
       "id | nombre | carrera | año | \n",
       "|---|---|---|---|---|---|---|---|---|---|---|---|\n",
       "| 1044            | Fran Morton     | Statistics      | 2015            | \n",
       "| 1035            | Kato Mullins    | Marketing       | 2014            | \n",
       "| 1046            | Jordan Keller   | Chemistry       | 2014            | \n",
       "| 1084            | Macey Simpson   | Finance         | 2016            | \n",
       "| 1010            | Deanna Ortega   | Chemistry       | 2016            | \n",
       "| 1096            | Joe Eaton       | MIS             | 2014            | \n",
       "| 1051            | Yoko Washington | Marketing       | 2017            | \n",
       "| 1074            | Ebony Farrell   | Chemistry       | 2017            | \n",
       "| 1034            | Quinn Delacruz  | Marketing       | 2017            | \n",
       "| 1028            | Magee Humphrey  | Physics         | 2016            | \n",
       "| 1003            | Kaitlin Cooper  | Accounting      | 2014            | \n",
       "| 1021            | Carson Roy      | History         | 2017            | \n",
       "\n",
       "\n"
      ],
      "text/plain": [
       "   id   nombre          carrera         año \n",
       "1  1044 Fran Morton     Statistics      2015\n",
       "2  1035 Kato Mullins    Marketing       2014\n",
       "3  1046 Jordan Keller   Chemistry       2014\n",
       "4  1084 Macey Simpson   Finance         2016\n",
       "5  1010 Deanna Ortega   Chemistry       2016\n",
       "6  1096 Joe Eaton       MIS             2014\n",
       "7  1051 Yoko Washington Marketing       2017\n",
       "8  1074 Ebony Farrell   Chemistry       2017\n",
       "9  1034 Quinn Delacruz  Marketing       2017\n",
       "10 1028 Magee Humphrey  Physics         2016\n",
       "11 1003 Kaitlin Cooper  Accounting      2014\n",
       "12 1021 Carson Roy      History         2017"
      ]
     },
     "metadata": {},
     "output_type": "display_data"
    }
   ],
   "source": [
    "students_data_no_email"
   ]
  },
  {
   "cell_type": "code",
   "execution_count": null,
   "metadata": {
    "collapsed": true
   },
   "outputs": [],
   "source": []
  },
  {
   "cell_type": "code",
   "execution_count": null,
   "metadata": {
    "collapsed": true
   },
   "outputs": [],
   "source": []
  }
 ],
 "metadata": {
  "kernelspec": {
   "display_name": "R",
   "language": "R",
   "name": "ir"
  },
  "language_info": {
   "codemirror_mode": "r",
   "file_extension": ".r",
   "mimetype": "text/x-r-source",
   "name": "R",
   "pygments_lexer": "r",
   "version": "3.4.1"
  }
 },
 "nbformat": 4,
 "nbformat_minor": 2
}
