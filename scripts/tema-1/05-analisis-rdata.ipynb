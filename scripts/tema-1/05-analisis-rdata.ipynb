{
 "cells": [
  {
   "cell_type": "code",
   "execution_count": null,
   "metadata": {
    "collapsed": true
   },
   "outputs": [],
   "source": []
  },
  {
   "cell_type": "code",
   "execution_count": 3,
   "metadata": {
    "collapsed": true
   },
   "outputs": [],
   "source": [
    "clientes = c(\"Ricardo\", \"Juan Gabriel\", \"Pedro\")\n",
    "fecha = as.Date(c(\"2017-11-1\", \"2017-12-27\", \"2018-1-1\"))\n",
    "pago = c(192.55, 315, 40.15)"
   ]
  },
  {
   "cell_type": "code",
   "execution_count": 4,
   "metadata": {},
   "outputs": [],
   "source": [
    "#crear un dataframe(columna1, columna2...)\n",
    "pedidos = data.frame(clientes, fecha, pago)"
   ]
  },
  {
   "cell_type": "code",
   "execution_count": 7,
   "metadata": {},
   "outputs": [],
   "source": [
    "save(pedidos, file = \"../data/tema1/pedidos.Rdata\")"
   ]
  },
  {
   "cell_type": "code",
   "execution_count": 8,
   "metadata": {
    "collapsed": true
   },
   "outputs": [],
   "source": [
    "saveRDS(pedidos, file = \"../data/tema1/pedidos.rds\")"
   ]
  },
  {
   "cell_type": "markdown",
   "metadata": {},
   "source": [
    "Se agrega una nueva columna"
   ]
  },
  {
   "cell_type": "code",
   "execution_count": 9,
   "metadata": {
    "collapsed": true
   },
   "outputs": [],
   "source": [
    "clientes_vip = c(\"Juan Gabriel\", \"Ricardo\")"
   ]
  },
  {
   "cell_type": "code",
   "execution_count": 10,
   "metadata": {
    "collapsed": true
   },
   "outputs": [],
   "source": [
    "save(pedidos, clientes_vip, file = \"../data/tema1/pedidos.Rdata\")"
   ]
  },
  {
   "cell_type": "markdown",
   "metadata": {},
   "source": [
    "### Cargar los archivos Rdata y RDS"
   ]
  },
  {
   "cell_type": "code",
   "execution_count": 14,
   "metadata": {
    "collapsed": true
   },
   "outputs": [],
   "source": [
    "#Los archivos Rdata guardan como tal las variables entonces solo es necesario cargar los ficheros Rdata y con esto\n",
    "#se estan importando las variables guardadas (este formato guarda varios objetos con su nombre y contenido)\n",
    "load(\"../data/tema1/pedidos.Rdata\")"
   ]
  },
  {
   "cell_type": "code",
   "execution_count": 16,
   "metadata": {},
   "outputs": [],
   "source": [
    "#los archivos rds si se deben cargar en una variable(solo guarda un objeto), como normalmente se hace con un fichero\n",
    "orders = readRDS(\"../data/tema1/pedidos.rds\")"
   ]
  },
  {
   "cell_type": "markdown",
   "metadata": {},
   "source": [
    "Dos de los datasets por defecto mas utiles"
   ]
  },
  {
   "cell_type": "code",
   "execution_count": 18,
   "metadata": {
    "collapsed": true
   },
   "outputs": [],
   "source": [
    "data(iris)\n",
    "data(cars)"
   ]
  },
  {
   "cell_type": "markdown",
   "metadata": {},
   "source": [
    "Otra manera de guardar los datos"
   ]
  },
  {
   "cell_type": "code",
   "execution_count": null,
   "metadata": {
    "collapsed": true
   },
   "outputs": [],
   "source": [
    "#la funcion save.image para guardar toda la sesion, todas las variables.\n",
    "save.image(file=\"../data/tema1/alldata.Rdata\")"
   ]
  },
  {
   "cell_type": "code",
   "execution_count": 21,
   "metadata": {
    "collapsed": true
   },
   "outputs": [],
   "source": [
    "#Para guardar selectivamente variables es mas util la funcion save\n",
    "#Otra manera para usar esta funcion es:\n",
    "primes = c(2, 3, 5, 7, 11, 13)\n",
    "pow2 = c(2, 4, 8, 16, 32, 64, 128)\n",
    "save(list=c(\"primes\", \"pow2\"), file = \"../data/tema1/primes_and_pow2.Rdata\")"
   ]
  },
  {
   "cell_type": "markdown",
   "metadata": {},
   "source": [
    "Para obtener un Warning a la hora de cargar un archivo .Rdata cuando las variables ya existen se puede utilizar la funcion attach"
   ]
  },
  {
   "cell_type": "code",
   "execution_count": 22,
   "metadata": {},
   "outputs": [
    {
     "name": "stderr",
     "output_type": "stream",
     "text": [
      "The following objects are masked _by_ .GlobalEnv:\n",
      "\n",
      "    pow2, primes\n",
      "\n"
     ]
    }
   ],
   "source": [
    "attach(\"../data/tema1/primes_and_pow2.Rdata\")"
   ]
  },
  {
   "cell_type": "code",
   "execution_count": 23,
   "metadata": {
    "collapsed": true
   },
   "outputs": [],
   "source": [
    "data()"
   ]
  },
  {
   "cell_type": "code",
   "execution_count": null,
   "metadata": {
    "collapsed": true
   },
   "outputs": [],
   "source": []
  },
  {
   "cell_type": "code",
   "execution_count": null,
   "metadata": {
    "collapsed": true
   },
   "outputs": [],
   "source": []
  },
  {
   "cell_type": "code",
   "execution_count": null,
   "metadata": {
    "collapsed": true
   },
   "outputs": [],
   "source": []
  },
  {
   "cell_type": "code",
   "execution_count": null,
   "metadata": {
    "collapsed": true
   },
   "outputs": [],
   "source": []
  }
 ],
 "metadata": {
  "kernelspec": {
   "display_name": "R",
   "language": "R",
   "name": "ir"
  },
  "language_info": {
   "codemirror_mode": "r",
   "file_extension": ".r",
   "mimetype": "text/x-r-source",
   "name": "R",
   "pygments_lexer": "r",
   "version": "3.4.1"
  }
 },
 "nbformat": 4,
 "nbformat_minor": 2
}
